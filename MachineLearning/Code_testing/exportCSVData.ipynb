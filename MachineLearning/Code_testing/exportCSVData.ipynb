{
 "cells": [
  {
   "cell_type": "markdown",
   "metadata": {},
   "source": [
    "# Store data in a matrix and write in a .csv file \n",
    "-> 10% testdata and 90% traindata"
   ]
  },
  {
   "cell_type": "code",
   "execution_count": 90,
   "metadata": {},
   "outputs": [],
   "source": [
    "import numpy as np"
   ]
  },
  {
   "cell_type": "code",
   "execution_count": 91,
   "metadata": {},
   "outputs": [],
   "source": [
    "a = np.zeros((1,9))"
   ]
  },
  {
   "cell_type": "code",
   "execution_count": 92,
   "metadata": {},
   "outputs": [
    {
     "data": {
      "text/plain": [
       "array([[0., 0., 0., 0., 0., 0., 0., 0., 0.]])"
      ]
     },
     "execution_count": 92,
     "metadata": {},
     "output_type": "execute_result"
    }
   ],
   "source": [
    "a"
   ]
  },
  {
   "cell_type": "code",
   "execution_count": 93,
   "metadata": {},
   "outputs": [],
   "source": [
    "for i in range(1,30):\n",
    "    a = np.insert(a, a.shape[0], [i,i,i,i,i,i,i,i,i], 0)"
   ]
  },
  {
   "cell_type": "code",
   "execution_count": 94,
   "metadata": {},
   "outputs": [
    {
     "data": {
      "text/plain": [
       "array([[ 0.,  0.,  0.,  0.,  0.,  0.,  0.,  0.,  0.],\n",
       "       [ 1.,  1.,  1.,  1.,  1.,  1.,  1.,  1.,  1.],\n",
       "       [ 2.,  2.,  2.,  2.,  2.,  2.,  2.,  2.,  2.],\n",
       "       [ 3.,  3.,  3.,  3.,  3.,  3.,  3.,  3.,  3.],\n",
       "       [ 4.,  4.,  4.,  4.,  4.,  4.,  4.,  4.,  4.],\n",
       "       [ 5.,  5.,  5.,  5.,  5.,  5.,  5.,  5.,  5.],\n",
       "       [ 6.,  6.,  6.,  6.,  6.,  6.,  6.,  6.,  6.],\n",
       "       [ 7.,  7.,  7.,  7.,  7.,  7.,  7.,  7.,  7.],\n",
       "       [ 8.,  8.,  8.,  8.,  8.,  8.,  8.,  8.,  8.],\n",
       "       [ 9.,  9.,  9.,  9.,  9.,  9.,  9.,  9.,  9.],\n",
       "       [10., 10., 10., 10., 10., 10., 10., 10., 10.],\n",
       "       [11., 11., 11., 11., 11., 11., 11., 11., 11.],\n",
       "       [12., 12., 12., 12., 12., 12., 12., 12., 12.],\n",
       "       [13., 13., 13., 13., 13., 13., 13., 13., 13.],\n",
       "       [14., 14., 14., 14., 14., 14., 14., 14., 14.],\n",
       "       [15., 15., 15., 15., 15., 15., 15., 15., 15.],\n",
       "       [16., 16., 16., 16., 16., 16., 16., 16., 16.],\n",
       "       [17., 17., 17., 17., 17., 17., 17., 17., 17.],\n",
       "       [18., 18., 18., 18., 18., 18., 18., 18., 18.],\n",
       "       [19., 19., 19., 19., 19., 19., 19., 19., 19.],\n",
       "       [20., 20., 20., 20., 20., 20., 20., 20., 20.],\n",
       "       [21., 21., 21., 21., 21., 21., 21., 21., 21.],\n",
       "       [22., 22., 22., 22., 22., 22., 22., 22., 22.],\n",
       "       [23., 23., 23., 23., 23., 23., 23., 23., 23.],\n",
       "       [24., 24., 24., 24., 24., 24., 24., 24., 24.],\n",
       "       [25., 25., 25., 25., 25., 25., 25., 25., 25.],\n",
       "       [26., 26., 26., 26., 26., 26., 26., 26., 26.],\n",
       "       [27., 27., 27., 27., 27., 27., 27., 27., 27.],\n",
       "       [28., 28., 28., 28., 28., 28., 28., 28., 28.],\n",
       "       [29., 29., 29., 29., 29., 29., 29., 29., 29.]])"
      ]
     },
     "execution_count": 94,
     "metadata": {},
     "output_type": "execute_result"
    }
   ],
   "source": [
    "a"
   ]
  },
  {
   "cell_type": "code",
   "execution_count": 96,
   "metadata": {},
   "outputs": [
    {
     "data": {
      "text/plain": [
       "(30, 9)"
      ]
     },
     "execution_count": 96,
     "metadata": {},
     "output_type": "execute_result"
    }
   ],
   "source": [
    "a.shape"
   ]
  },
  {
   "cell_type": "code",
   "execution_count": 115,
   "metadata": {},
   "outputs": [],
   "source": [
    "testCount = round(a.shape[0]/10)"
   ]
  },
  {
   "cell_type": "code",
   "execution_count": 116,
   "metadata": {},
   "outputs": [
    {
     "data": {
      "text/plain": [
       "3"
      ]
     },
     "execution_count": 116,
     "metadata": {},
     "output_type": "execute_result"
    }
   ],
   "source": [
    "testCount"
   ]
  },
  {
   "cell_type": "code",
   "execution_count": 117,
   "metadata": {
    "scrolled": true
   },
   "outputs": [],
   "source": [
    "testArray = a[np.arange(testCount,a.shape[0],testCount),:]\n",
    "trainArray = a\n",
    "trainArray = np.delete(trainArray, np.arange(testCount,a.shape[0],testCount), 0)"
   ]
  },
  {
   "cell_type": "code",
   "execution_count": 118,
   "metadata": {},
   "outputs": [
    {
     "data": {
      "text/plain": [
       "array([[ 3.,  3.,  3.,  3.,  3.,  3.,  3.,  3.,  3.],\n",
       "       [ 6.,  6.,  6.,  6.,  6.,  6.,  6.,  6.,  6.],\n",
       "       [ 9.,  9.,  9.,  9.,  9.,  9.,  9.,  9.,  9.],\n",
       "       [12., 12., 12., 12., 12., 12., 12., 12., 12.],\n",
       "       [15., 15., 15., 15., 15., 15., 15., 15., 15.],\n",
       "       [18., 18., 18., 18., 18., 18., 18., 18., 18.],\n",
       "       [21., 21., 21., 21., 21., 21., 21., 21., 21.],\n",
       "       [24., 24., 24., 24., 24., 24., 24., 24., 24.],\n",
       "       [27., 27., 27., 27., 27., 27., 27., 27., 27.]])"
      ]
     },
     "execution_count": 118,
     "metadata": {},
     "output_type": "execute_result"
    }
   ],
   "source": [
    "testArray"
   ]
  },
  {
   "cell_type": "code",
   "execution_count": 119,
   "metadata": {},
   "outputs": [
    {
     "data": {
      "text/plain": [
       "array([[ 0.,  0.,  0.,  0.,  0.,  0.,  0.,  0.,  0.],\n",
       "       [ 1.,  1.,  1.,  1.,  1.,  1.,  1.,  1.,  1.],\n",
       "       [ 2.,  2.,  2.,  2.,  2.,  2.,  2.,  2.,  2.],\n",
       "       [ 4.,  4.,  4.,  4.,  4.,  4.,  4.,  4.,  4.],\n",
       "       [ 5.,  5.,  5.,  5.,  5.,  5.,  5.,  5.,  5.],\n",
       "       [ 7.,  7.,  7.,  7.,  7.,  7.,  7.,  7.,  7.],\n",
       "       [ 8.,  8.,  8.,  8.,  8.,  8.,  8.,  8.,  8.],\n",
       "       [10., 10., 10., 10., 10., 10., 10., 10., 10.],\n",
       "       [11., 11., 11., 11., 11., 11., 11., 11., 11.],\n",
       "       [13., 13., 13., 13., 13., 13., 13., 13., 13.],\n",
       "       [14., 14., 14., 14., 14., 14., 14., 14., 14.],\n",
       "       [16., 16., 16., 16., 16., 16., 16., 16., 16.],\n",
       "       [17., 17., 17., 17., 17., 17., 17., 17., 17.],\n",
       "       [19., 19., 19., 19., 19., 19., 19., 19., 19.],\n",
       "       [20., 20., 20., 20., 20., 20., 20., 20., 20.],\n",
       "       [22., 22., 22., 22., 22., 22., 22., 22., 22.],\n",
       "       [23., 23., 23., 23., 23., 23., 23., 23., 23.],\n",
       "       [25., 25., 25., 25., 25., 25., 25., 25., 25.],\n",
       "       [26., 26., 26., 26., 26., 26., 26., 26., 26.],\n",
       "       [28., 28., 28., 28., 28., 28., 28., 28., 28.],\n",
       "       [29., 29., 29., 29., 29., 29., 29., 29., 29.]])"
      ]
     },
     "execution_count": 119,
     "metadata": {},
     "output_type": "execute_result"
    }
   ],
   "source": [
    "trainArray"
   ]
  },
  {
   "cell_type": "code",
   "execution_count": 121,
   "metadata": {},
   "outputs": [],
   "source": [
    "np.savetxt(\"..\\data\\ExportedDatabase.csv\", a, delimiter=\";\")"
   ]
  },
  {
   "cell_type": "code",
   "execution_count": 125,
   "metadata": {},
   "outputs": [],
   "source": [
    "np.savetxt(\"..\\data\\ExportedDatabaseTrain.csv\", trainArray, delimiter=\";\", fmt='%4d')"
   ]
  },
  {
   "cell_type": "code",
   "execution_count": 123,
   "metadata": {},
   "outputs": [],
   "source": [
    "np.savetxt(\"..\\data\\ExportedDatabaseTest.csv\", testArray, delimiter=\";\", fmt='%4d')"
   ]
  },
  {
   "cell_type": "code",
   "execution_count": null,
   "metadata": {},
   "outputs": [],
   "source": []
  }
 ],
 "metadata": {
  "kernelspec": {
   "display_name": "Python 3",
   "language": "python",
   "name": "python3"
  },
  "language_info": {
   "codemirror_mode": {
    "name": "ipython",
    "version": 3
   },
   "file_extension": ".py",
   "mimetype": "text/x-python",
   "name": "python",
   "nbconvert_exporter": "python",
   "pygments_lexer": "ipython3",
   "version": "3.6.5"
  }
 },
 "nbformat": 4,
 "nbformat_minor": 2
}
